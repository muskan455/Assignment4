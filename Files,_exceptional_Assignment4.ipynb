{
  "nbformat": 4,
  "nbformat_minor": 0,
  "metadata": {
    "colab": {
      "provenance": []
    },
    "kernelspec": {
      "name": "python3",
      "display_name": "Python 3"
    },
    "language_info": {
      "name": "python"
    }
  },
  "cells": [
    {
      "cell_type": "markdown",
      "source": [
        "# **Files, exceptional handling,logging and memory management Theory Questions**"
      ],
      "metadata": {
        "id": "gb4SrffmIjyp"
      }
    },
    {
      "cell_type": "markdown",
      "source": [
        "# **Q.1  What is the difference between interpreted and compiled languages?**"
      ],
      "metadata": {
        "id": "vkmwxVMUI13v"
      }
    },
    {
      "cell_type": "markdown",
      "source": [
        "ans = Compiled languages - compiled languages are those languages that executes the full program and gives output.it need space to store exe file.It is faster.\n",
        "\n",
        "Example = c,c++,java.\n",
        "\n",
        "Interpreted languages - Interpreted languages are those languages that executes line by line. It doesn't need space for storing any file because it executes line by line and give output.it is slower than compiled languages\n",
        "\n",
        "example = python,java."
      ],
      "metadata": {
        "id": "0dung4ZuI_U7"
      }
    },
    {
      "cell_type": "markdown",
      "source": [
        "# **Q.2  What is exception handling in Python?**\n",
        "\n",
        "\n",
        "ans = Exception is a error that occure when the program is going to excute.\n",
        "Exception Handling is process in which the error occured at the excution time that we handle to excute the program without any error this process is called exception handling.\n",
        "\n",
        "Some common errors are that we handle through the excption handling:\n",
        "1.Zero Division Error\n",
        "2.KeyName Error\n",
        "3.File Not Found Error"
      ],
      "metadata": {
        "id": "dt8A5VbrKbdI"
      }
    },
    {
      "cell_type": "markdown",
      "source": [
        "# **Q.3 What is the purpose of the finally block in exception handling?**\n",
        "\n",
        "ans = There are three block for excption handling Try,except,finally\n",
        "these help to handle the excption finally is used to show the final excution the program like it print the value at end of the program .It doesn't contribute in the above program that is written using try and except."
      ],
      "metadata": {
        "id": "oK74vJWKMI3e"
      }
    },
    {
      "cell_type": "markdown",
      "source": [
        "# **Q.4  What is logging in Python?**\n",
        "\n",
        "ans = Logging is a built-in python module that is used for tracking the events occur when the software runs.it is usefull for tracking,controlling and dubugging.\n",
        "\n",
        "some logging levels are :\n",
        "1.Info\n",
        "2.Debug\n",
        "3.Warning\n",
        "4.critical\n",
        "5.error"
      ],
      "metadata": {
        "id": "CjLJLZqKNCSA"
      }
    },
    {
      "cell_type": "markdown",
      "source": [
        "# **Q.5  What is the significance of the __del__ method in Python?**\n",
        "\n",
        "ans = '__del__' method is destructor method it is automatically called object is going to destroy.\n",
        "\n",
        "significance of del method is to resource\n",
        "cleaning and debugging"
      ],
      "metadata": {
        "id": "s63tg6r_OI_9"
      }
    },
    {
      "cell_type": "markdown",
      "source": [
        "# **Q.6 What is the difference between import and from ... import in Python?**\n",
        "\n",
        "ans = import is a method in which we install the python code into working directory for using the module. so we don't need to write more code.\n",
        "module have the python already written code for usecase so we can save our time.\n",
        "import is method in which we  directly install that module and use\n",
        "\n",
        "But from import is a method in which we are importing some specific method for use from the module"
      ],
      "metadata": {
        "id": "vYEhjRywPmmL"
      }
    },
    {
      "cell_type": "markdown",
      "source": [
        "# **Q.7 How can you handle multiple exceptions in Python?**\n",
        "\n",
        "ans =Multiple exceptions handling is a process in which we handle one and more exception at a time. if we know what is the error so we can write down the error name in try and except block. Otherwise if we know only one error so we can write down that error in name in try block and other error will handle through the except block ."
      ],
      "metadata": {
        "id": "6faWQYZGQvUp"
      }
    },
    {
      "cell_type": "markdown",
      "source": [
        "# **Q.8  What is the purpose of the with statement when handling files in Python?**\n",
        "\n",
        "ans = with statement is help to open the file in reading or writing mode for reading and writing something into the file.With is a context manager in python that is detemines the resource cleanup."
      ],
      "metadata": {
        "id": "HwhrIpmnR4-F"
      }
    },
    {
      "cell_type": "markdown",
      "source": [
        "# **Q.9 What is the difference between multithreading and multiprocessing?**\n",
        "\n",
        "\n",
        "ans = Multiprocessing shares separate space for every program .In this each process uses separate memory space improving stability but with higher overhead\n",
        "\n",
        "Multithreading is process in which multiple threads process in the processor\n",
        "It uses same memory space for each process."
      ],
      "metadata": {
        "id": "lc4cX2RGHhg2"
      }
    },
    {
      "cell_type": "markdown",
      "source": [
        "# **Q.10 What are the advantages of using logging in a program?**\n",
        "\n",
        "ans = using logging in a program gives us better performance of the program.And logging is useful in Monitoring ,debugging and controlling the flow of program especially for production.\n",
        "\n"
      ],
      "metadata": {
        "id": "vr5rPzRhJMv7"
      }
    },
    {
      "cell_type": "markdown",
      "source": [
        "# **Q.11  What is memory management in Python?**\n",
        "\n",
        "ans = Memory management in python is easy with multiprocessing and multithreading\n",
        "Memory management means manage the space and workflow of the program.\n",
        "By using multiprocessing we can save the space in memory and using multithreading we can save the time of the execution"
      ],
      "metadata": {
        "id": "SEnZqbgRKGWl"
      }
    },
    {
      "cell_type": "markdown",
      "source": [
        "# **Q.12 What are the basic steps involved in exception handling in Python?**\n",
        "\n",
        "ans = Exception handling is process in which we handle the error that occured at the time of excution of program.\n",
        "There are three methods are use for exception handling\n",
        "\n",
        "1.Try : try is used to handle the condition in which error will be occure\n",
        "\n",
        "2.Except: Except handles that error that is occure in try block\n",
        "\n",
        "3.Finally: finally is used to cleanup the program after excution."
      ],
      "metadata": {
        "id": "vO8V3dtqLCz5"
      }
    },
    {
      "cell_type": "markdown",
      "source": [
        "# **Q.13 Why is memory management important in Python?**\n",
        "\n",
        "ans = Memory management is important for\n",
        "it prevents memory leak means poor memory management is cause of unreleased leak .it slowing down the efficiency and performance of memory . so we need the optimized memory management for better performance , External resource management and garbage collector help to improving the performance of memory."
      ],
      "metadata": {
        "id": "W5uXGMlvMdaH"
      }
    },
    {
      "cell_type": "markdown",
      "source": [
        "# **Q.14 What is the role of try and except in exception handling?**\n",
        "\n",
        "ans = Role of try and except block in exception handling\n",
        "\n",
        "try : try is used to handle th specific condition in which error will occure in runtime excution of program\n",
        "\n",
        "Except: except block handles the specifi error that comes out from try block and it handle the error easily we can use multiple except condition for multiple errors."
      ],
      "metadata": {
        "id": "wdzpqMANO3ag"
      }
    },
    {
      "cell_type": "markdown",
      "source": [
        "# **Q.15 How does Python's garbage collection system work?**\n",
        "\n",
        "ans = Garbage collection work in two mwthodology that is\n",
        "1. Reference counting it means it tracks on the program whenever it finds the empty variavle with non value or zero value it delete that variable and it using finally block and cleanup that space\n",
        "\n",
        "2. Backup mechanism : It is helps to handle the cyclic values like ojbect b is ponting to a and a is pointing to b like this\n",
        "it handles the cyclic variable value and cleanup the space"
      ],
      "metadata": {
        "id": "FCtEO5xHPraF"
      }
    },
    {
      "cell_type": "markdown",
      "source": [
        "# **Q.16 What is the purpose of the else block in exception handling?**\n",
        "\n",
        "ans = Exception handling is process in which we handle the error that occures at execution of program .Else block is excutes when the try and except block excutes without any error its purpose is to print that value or condition that user only want when the upper try and except excutes the program."
      ],
      "metadata": {
        "id": "hPyowOHFaqwD"
      }
    },
    {
      "cell_type": "markdown",
      "source": [
        "# **Q.17 What are the common logging levels in Python?**\n",
        "\n",
        "ans = There are five standard or common logging levels\n",
        "\n",
        "1.Debug: it is used to debug the complex code\n",
        "\n",
        "2.Info: info tacks the program and monitoring the normal programs\n",
        "\n",
        "3.Warning: It is second priority of the code to it handles the critical situation the program\n",
        "\n",
        "4.Error: it is recoverable but impactfull failure in python code\n",
        "\n",
        "5.Critical: critical level always in first priority because it required immediate action."
      ],
      "metadata": {
        "id": "HpQPajnbbZge"
      }
    },
    {
      "cell_type": "markdown",
      "source": [
        "# **Q.18 What is the difference between os.fork() and multiprocessing in Python?**\n",
        "\n",
        "ans = os.fork() is used in unix platform  only it is used to create a copy of the parent class. GIl inheritated with no paralellism and in os.fork() memory management we have to do manually and low level API support\n",
        "it used for unix specific tool.\n",
        "\n",
        "In multiprocessing it uses cross platform and avoide the GIL in this we don't need to do memory management manually it done automatically and high level API suported ."
      ],
      "metadata": {
        "id": "9dIPSkBGcudi"
      }
    },
    {
      "cell_type": "markdown",
      "source": [
        "# **Q.19 What is the importance of closing a file in Python?**\n",
        "\n",
        "ans = Closing file in python is needed because when we close the file than we can see the what is in file .\n",
        "\n",
        "In python when we open a file for writing that time the file is created and we write something in the file and that file we execute so will not get anything but when we close the file we can see the what was written in the file and also for reading we have to close the file first."
      ],
      "metadata": {
        "id": "_10CS1-nejlS"
      }
    },
    {
      "cell_type": "markdown",
      "source": [
        "# **Q.20 What is the difference between file.read() and file.readline() in Python ?**\n",
        "\n",
        "ans = file.read() is read entire file in a single time it uses high memory But in file.readlines() is used to read the line of the file it means it reads only one line at one time. It uses low memory as compare to file.read()\n",
        "\n",
        "file.read() is efficient for small files memory goes heavy at the time of\n",
        "large files\n",
        "\n",
        "file.readlines() is efficient for reading one line of the file at one time but when we read the entire file so it takes time and slower for full file."
      ],
      "metadata": {
        "id": "TfbYlA4mfttY"
      }
    },
    {
      "cell_type": "markdown",
      "source": [
        "# **Q.21 What is the logging module in Python used for**\n",
        "\n",
        "ans = logging module is module that stores the code of the python for using everywhere . logging is used for giving the information , warning and handling error and critical section of the program that is efficient for python ."
      ],
      "metadata": {
        "id": "WJFGhm6unc4X"
      }
    },
    {
      "cell_type": "markdown",
      "source": [
        "# **Q.22 What is the os module in Python used for in file handling**\n",
        "\n",
        "ans = os module is indispensable for python.specially when working with filesystem beyond reading and writing\n",
        "\n",
        "there are several works that os do in file handling and file operations\n",
        "1.file math manipulation\n",
        "2.file operations\n",
        "3.file metadata\n",
        "4.file deletion and renaming."
      ],
      "metadata": {
        "id": "rqTW2W3soD2A"
      }
    },
    {
      "cell_type": "markdown",
      "source": [
        "# **Q.23 What are the challenges associated with memory management in Python**\n",
        "\n",
        "ans = As we know python automatically handles the memory management but some times developer phase this kind of challenges :\n",
        "1.first challenge that occures in garbage collection it collects the garbage periodically but it cause of inpredictable pause in performance\n",
        "\n",
        "2. handling recyclic variable for example objea is denotes objeb and objeb denotes objea this is not freed up by counting alone.\n",
        "\n",
        "3.Memory usage python's variable uses high memory because of dynamically variables allocated"
      ],
      "metadata": {
        "id": "7WWZeRi2pUTd"
      }
    },
    {
      "cell_type": "markdown",
      "source": [
        "# **Q.24 How do you raise an exception manually in Python**\n",
        "\n",
        "ans = We can use basic exception by our  massage pass into the error\n",
        "and custom exception by define the name of the particular error that is we wanted to display\n",
        "and re-raise exceptions means raise the same error again"
      ],
      "metadata": {
        "id": "2GHw8T87q3w1"
      }
    },
    {
      "cell_type": "markdown",
      "source": [
        "# **Q.25  Why is it important to use multithreading in certain applications?**\n",
        "ans = Multithreading is crucial in certain applications to maximize efficiency, responsiveness, and resource utilization, particularly in scenarios involving I/O-bound tasks or concurrent operations.\n",
        "\n",
        "1. optimizes the performance\n",
        "\n",
        "2.improve responsiveness\n",
        "\n",
        "3.Utilize the resource\n",
        "\n",
        "4.improve Input and output perforamance"
      ],
      "metadata": {
        "id": "q2uTA3Z5r9vh"
      }
    }
  ]
}