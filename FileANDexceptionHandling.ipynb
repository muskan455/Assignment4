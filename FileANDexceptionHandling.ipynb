{
  "nbformat": 4,
  "nbformat_minor": 0,
  "metadata": {
    "colab": {
      "provenance": []
    },
    "kernelspec": {
      "name": "python3",
      "display_name": "Python 3"
    },
    "language_info": {
      "name": "python"
    }
  },
  "cells": [
    {
      "cell_type": "markdown",
      "source": [
        "# **File exception handling and memory management Practical questions**"
      ],
      "metadata": {
        "id": "psaNecu-tIUi"
      }
    },
    {
      "cell_type": "markdown",
      "source": [
        "**Q.1 How can you open a file for writing in Python and write a string to it?**"
      ],
      "metadata": {
        "id": "KhogGSdytT3v"
      }
    },
    {
      "cell_type": "code",
      "source": [
        "file = open(\"file.txt\",'w')\n",
        "file.write(\"Hello World\")\n",
        "file.write(\"\\nThis is our new file\")\n",
        "file.close()"
      ],
      "metadata": {
        "id": "SmLKf0Uothl1"
      },
      "execution_count": null,
      "outputs": []
    },
    {
      "cell_type": "markdown",
      "source": [
        "**Q.2 Write a Python program to read the contents of a file and print each line?**"
      ],
      "metadata": {
        "id": "n31KdC7utqO4"
      }
    },
    {
      "cell_type": "code",
      "source": [
        "f = open('file.txt','r')\n",
        "print(f.read())"
      ],
      "metadata": {
        "colab": {
          "base_uri": "https://localhost:8080/"
        },
        "id": "LY3zCFVst1td",
        "outputId": "295c533c-d6b2-438d-ffeb-535b1d504f9f"
      },
      "execution_count": null,
      "outputs": [
        {
          "output_type": "stream",
          "name": "stdout",
          "text": [
            "Hello World\n",
            "This is our new file\n"
          ]
        }
      ]
    },
    {
      "cell_type": "markdown",
      "source": [
        "**Q.3 How would you handle a case where the file doesn't exist while trying to open it for reading?**"
      ],
      "metadata": {
        "id": "bYvWTA9nuFmG"
      }
    },
    {
      "cell_type": "code",
      "source": [
        "f1 = open('file1.txt','r')\n"
      ],
      "metadata": {
        "colab": {
          "base_uri": "https://localhost:8080/",
          "height": 141
        },
        "id": "Bh61fxhwuNqg",
        "outputId": "e980baab-71a3-4bb2-d602-2e68e7be9c9e"
      },
      "execution_count": null,
      "outputs": [
        {
          "output_type": "error",
          "ename": "FileNotFoundError",
          "evalue": "[Errno 2] No such file or directory: 'file1.txt'",
          "traceback": [
            "\u001b[0;31m---------------------------------------------------------------------------\u001b[0m",
            "\u001b[0;31mFileNotFoundError\u001b[0m                         Traceback (most recent call last)",
            "\u001b[0;32m/tmp/ipython-input-5-1307858938.py\u001b[0m in \u001b[0;36m<cell line: 0>\u001b[0;34m()\u001b[0m\n\u001b[0;32m----> 1\u001b[0;31m \u001b[0mf1\u001b[0m \u001b[0;34m=\u001b[0m \u001b[0mopen\u001b[0m\u001b[0;34m(\u001b[0m\u001b[0;34m'file1.txt'\u001b[0m\u001b[0;34m,\u001b[0m\u001b[0;34m'r'\u001b[0m\u001b[0;34m)\u001b[0m\u001b[0;34m\u001b[0m\u001b[0;34m\u001b[0m\u001b[0m\n\u001b[0m",
            "\u001b[0;31mFileNotFoundError\u001b[0m: [Errno 2] No such file or directory: 'file1.txt'"
          ]
        }
      ]
    },
    {
      "cell_type": "markdown",
      "source": [
        "Handling this problem by exception handling try and except"
      ],
      "metadata": {
        "id": "IM7P4oCruZiy"
      }
    },
    {
      "cell_type": "code",
      "source": [
        "\n",
        "try:\n",
        "    f1 = open('file1.txt','r')\n",
        "except FileNotFoundError:\n",
        "    print(\"File not found\")"
      ],
      "metadata": {
        "colab": {
          "base_uri": "https://localhost:8080/"
        },
        "id": "-iERk3P6ugum",
        "outputId": "b595823f-7f8b-45c8-fcd9-b68f6230f911"
      },
      "execution_count": null,
      "outputs": [
        {
          "output_type": "stream",
          "name": "stdout",
          "text": [
            "File not found\n"
          ]
        }
      ]
    },
    {
      "cell_type": "markdown",
      "source": [
        "**Q.4  Write a Python script that reads from one file and writes its content to another file**"
      ],
      "metadata": {
        "id": "1NhPM1M2uqc9"
      }
    },
    {
      "cell_type": "code",
      "source": [
        "with open('file.txt','r') as input_file:\n",
        "  content = input_file.read()\n",
        "\n",
        "with open('file2.txt','w') as output_file:\n",
        "  output_file.write(content)\n",
        "\n",
        "print(\"massage copied successfully in another file\")"
      ],
      "metadata": {
        "colab": {
          "base_uri": "https://localhost:8080/"
        },
        "id": "G2Swe-NOuyP_",
        "outputId": "2fece957-aa16-425b-b8c4-2bc53f68fa8b"
      },
      "execution_count": null,
      "outputs": [
        {
          "output_type": "stream",
          "name": "stdout",
          "text": [
            "massage copied successfully in another file\n"
          ]
        }
      ]
    },
    {
      "cell_type": "markdown",
      "source": [
        "**Q.5 How would you catch and handle division by zero error in Python?**"
      ],
      "metadata": {
        "id": "OCg4J-EDxcnV"
      }
    },
    {
      "cell_type": "code",
      "source": [
        "try:\n",
        "  result = 10/0\n",
        "except ZeroDivisionError:\n",
        "  print(\"Error: Division by zero\")\n",
        "  print(\"Handled zero division successfully\")\n"
      ],
      "metadata": {
        "colab": {
          "base_uri": "https://localhost:8080/"
        },
        "id": "XpjJFidaxkb2",
        "outputId": "08b23e57-1d04-4322-a676-04a47da6b269"
      },
      "execution_count": null,
      "outputs": [
        {
          "output_type": "stream",
          "name": "stdout",
          "text": [
            "Error: Division by zero\n",
            "Handled zero division successfully\n"
          ]
        }
      ]
    },
    {
      "cell_type": "markdown",
      "source": [
        "**Q.6 Write a Python program that logs an error message to a log file when a division by zero exception occurs**"
      ],
      "metadata": {
        "id": "yMKbLHgNz5pl"
      }
    },
    {
      "cell_type": "code",
      "source": [
        "import logging\n",
        "\n",
        "# Configure logging to write to a file\n",
        "logging.basicConfig( filename='division_errors.log', level=logging.ERROR)\n",
        "\n",
        "def divide_numbers(a, b):\n",
        "    try:\n",
        "        result = a / b\n",
        "        print(f\"Result: {result}\")\n",
        "        return result\n",
        "    except ZeroDivisionError:\n",
        "        logging.error(f\"Division by zero occurred: {a}/{b}\")\n",
        "        print(\"Error: Cannot divide by zero!\")\n",
        "\n",
        "\n",
        "divide_numbers(10, 2)\n",
        "divide_numbers(5, 0)"
      ],
      "metadata": {
        "colab": {
          "base_uri": "https://localhost:8080/"
        },
        "id": "G7oh6Qkx0FjS",
        "outputId": "9d28e102-b810-46b3-acd9-1d4a6a6f7c28"
      },
      "execution_count": null,
      "outputs": [
        {
          "output_type": "stream",
          "name": "stderr",
          "text": [
            "ERROR:root:Division by zero occurred: 5/0\n"
          ]
        },
        {
          "output_type": "stream",
          "name": "stdout",
          "text": [
            "Result: 5.0\n",
            "Error: Cannot divide by zero!\n"
          ]
        }
      ]
    },
    {
      "cell_type": "markdown",
      "source": [
        "**Q.7 How do you log information at different levels (INFO, ERROR, WARNING) in Python using the logging module**"
      ],
      "metadata": {
        "id": "u9Iuu29t1DOf"
      }
    },
    {
      "cell_type": "code",
      "source": [
        "import logging\n",
        "logging.basicConfig(filename=\"file.log\", level=logging.DEBUG)\n",
        "logging.debug(\"This is a debug message\")\n",
        "logging.info(\"This is an info message\")\n",
        "logging.warning(\"This is a warning message\")\n",
        "logging.error(\"This is an error message\")\n",
        "logging.critical(\"This is a critical message\")"
      ],
      "metadata": {
        "colab": {
          "base_uri": "https://localhost:8080/"
        },
        "id": "zw68j74G1MMC",
        "outputId": "cd0ee074-ac2a-4221-b90f-e86547537dd4"
      },
      "execution_count": null,
      "outputs": [
        {
          "output_type": "stream",
          "name": "stderr",
          "text": [
            "WARNING:root:This is a warning message\n",
            "ERROR:root:This is an error message\n",
            "CRITICAL:root:This is a critical message\n"
          ]
        }
      ]
    },
    {
      "cell_type": "code",
      "source": [
        "try:\n",
        "    1 / 0\n",
        "except ZeroDivisionError:\n",
        "    logging.error(\"Division by zero!\")\n",
        "    logging.warning(\"Calculation failed, using default value\")"
      ],
      "metadata": {
        "colab": {
          "base_uri": "https://localhost:8080/"
        },
        "id": "KsHKODF315J4",
        "outputId": "2e66e99d-9a1d-44c4-d741-7f053cd3907c"
      },
      "execution_count": null,
      "outputs": [
        {
          "output_type": "stream",
          "name": "stderr",
          "text": [
            "ERROR:root:Division by zero!\n",
            "WARNING:root:Calculation failed, using default value\n"
          ]
        }
      ]
    },
    {
      "cell_type": "markdown",
      "source": [
        "**Q.8 Write a program to handle a file opening error using exception handling**"
      ],
      "metadata": {
        "id": "4ZSgXvh22Ino"
      }
    },
    {
      "cell_type": "code",
      "source": [
        "try:\n",
        "    file = open(\"file1.txt\", \"r\")\n",
        "    content = file.read()\n",
        "    print(content)\n",
        "    file.close()\n",
        "except FileNotFoundError:\n",
        "    print(\"File not found!\")"
      ],
      "metadata": {
        "colab": {
          "base_uri": "https://localhost:8080/"
        },
        "id": "JlJjngjT2O1I",
        "outputId": "94b65c08-eb6c-4bcd-d47e-24c6e94e8691"
      },
      "execution_count": null,
      "outputs": [
        {
          "output_type": "stream",
          "name": "stdout",
          "text": [
            "File not found!\n"
          ]
        }
      ]
    },
    {
      "cell_type": "markdown",
      "source": [
        "**Q.9  How can you read a file line by line and store its content in a list in Python**"
      ],
      "metadata": {
        "id": "E_ynQaGR2aFE"
      }
    },
    {
      "cell_type": "code",
      "source": [
        "with open('file.txt', 'r') as file:\n",
        "    lines = file.readlines()\n",
        "content = []\n",
        "for i in lines:\n",
        "  content.append(i)\n",
        "  print(content)"
      ],
      "metadata": {
        "colab": {
          "base_uri": "https://localhost:8080/"
        },
        "id": "ZkriItsl2hRW",
        "outputId": "97bc57f9-7aba-47c9-b1d4-5f94c864286d"
      },
      "execution_count": null,
      "outputs": [
        {
          "output_type": "stream",
          "name": "stdout",
          "text": [
            "['hello muskan\\n']\n"
          ]
        }
      ]
    },
    {
      "cell_type": "markdown",
      "source": [
        "**Q.10 How can you append data to an existing file in Python**"
      ],
      "metadata": {
        "id": "1nJGMi-s23Bz"
      }
    },
    {
      "cell_type": "code",
      "source": [
        "file = open('file.txt','a')\n",
        "file.write(\"\\nThis is our new file\")\n",
        "file.close()"
      ],
      "metadata": {
        "id": "d9vQltu33L_0"
      },
      "execution_count": null,
      "outputs": []
    },
    {
      "cell_type": "markdown",
      "source": [
        "**Q.11  Write a Python program that uses a try-except block to handle an error when attempting to access a\n",
        "dictionary key that doesn't exist**"
      ],
      "metadata": {
        "id": "bUy5JWZf3est"
      }
    },
    {
      "cell_type": "code",
      "source": [
        "dict = {\n",
        "    'name':'muskan',\n",
        "    'age':20,\n",
        "    'city':'delhi'\n",
        "}\n",
        "\n",
        "print(dict['name'])\n",
        "print(dict['country'])"
      ],
      "metadata": {
        "colab": {
          "base_uri": "https://localhost:8080/",
          "height": 193
        },
        "id": "oJ8IdDFa3rz8",
        "outputId": "42e79ea1-6d35-40e8-b270-dae6ac252596"
      },
      "execution_count": null,
      "outputs": [
        {
          "output_type": "stream",
          "name": "stdout",
          "text": [
            "muskan\n"
          ]
        },
        {
          "output_type": "error",
          "ename": "KeyError",
          "evalue": "'country'",
          "traceback": [
            "\u001b[0;31m---------------------------------------------------------------------------\u001b[0m",
            "\u001b[0;31mKeyError\u001b[0m                                  Traceback (most recent call last)",
            "\u001b[0;32m/tmp/ipython-input-24-3006821128.py\u001b[0m in \u001b[0;36m<cell line: 0>\u001b[0;34m()\u001b[0m\n\u001b[1;32m      6\u001b[0m \u001b[0;34m\u001b[0m\u001b[0m\n\u001b[1;32m      7\u001b[0m \u001b[0mprint\u001b[0m\u001b[0;34m(\u001b[0m\u001b[0mdict\u001b[0m\u001b[0;34m[\u001b[0m\u001b[0;34m'name'\u001b[0m\u001b[0;34m]\u001b[0m\u001b[0;34m)\u001b[0m\u001b[0;34m\u001b[0m\u001b[0;34m\u001b[0m\u001b[0m\n\u001b[0;32m----> 8\u001b[0;31m \u001b[0mprint\u001b[0m\u001b[0;34m(\u001b[0m\u001b[0mdict\u001b[0m\u001b[0;34m[\u001b[0m\u001b[0;34m'country'\u001b[0m\u001b[0;34m]\u001b[0m\u001b[0;34m)\u001b[0m\u001b[0;34m\u001b[0m\u001b[0;34m\u001b[0m\u001b[0m\n\u001b[0m",
            "\u001b[0;31mKeyError\u001b[0m: 'country'"
          ]
        }
      ]
    },
    {
      "cell_type": "code",
      "source": [
        "# handling the key error in dict\n",
        "\n",
        "try:\n",
        "  print(dict['country'])\n",
        "except KeyError:\n",
        "  print(\"Error: Key not found in dictionary\")"
      ],
      "metadata": {
        "colab": {
          "base_uri": "https://localhost:8080/"
        },
        "id": "qocNBijQ4EBQ",
        "outputId": "66a87407-4944-41ad-965d-22f14c112f34"
      },
      "execution_count": null,
      "outputs": [
        {
          "output_type": "stream",
          "name": "stdout",
          "text": [
            "Error: Key not found in dictionary\n"
          ]
        }
      ]
    },
    {
      "cell_type": "markdown",
      "source": [
        "**Q.12 Write a program that demonstrates using multiple except blocks to handle different types of exceptions**"
      ],
      "metadata": {
        "id": "v72gf7Xi4O-s"
      }
    },
    {
      "cell_type": "code",
      "source": [
        "try:\n",
        "    result = 10 / 0\n",
        "except ZeroDivisionError:\n",
        "    print(\"Error: Division by zero\")\n",
        "except ValueError:\n",
        "    print(\"Error: Invalid value\")\n",
        "except Exception as e:\n",
        "    print(f\"An unexpected error occurred: {e}\")"
      ],
      "metadata": {
        "colab": {
          "base_uri": "https://localhost:8080/"
        },
        "id": "zZGrgGXh4H-e",
        "outputId": "cf01b65a-f537-46d7-a77f-45335b22ae86"
      },
      "execution_count": null,
      "outputs": [
        {
          "output_type": "stream",
          "name": "stdout",
          "text": [
            "Error: Division by zero\n"
          ]
        }
      ]
    },
    {
      "cell_type": "markdown",
      "source": [
        "**Q.13 How would you check if a file exists before attempting to read it in Python**"
      ],
      "metadata": {
        "id": "U7-MCUN04mTh"
      }
    },
    {
      "cell_type": "code",
      "source": [
        "import os\n",
        "\n",
        "file_path = \"data.txt\"\n",
        "\n",
        "if os.path.exists(file_path):\n",
        "    with open(file_path, 'r') as file:\n",
        "        content = file.read()\n",
        "    print(\"File read successfully\")\n",
        "else:\n",
        "    print(f\"Error: {file_path} does not exist\")\n"
      ],
      "metadata": {
        "colab": {
          "base_uri": "https://localhost:8080/"
        },
        "id": "HsxFR2TD4tQl",
        "outputId": "f79cd026-105c-4aa9-fb72-8bb407b285dc"
      },
      "execution_count": null,
      "outputs": [
        {
          "output_type": "stream",
          "name": "stdout",
          "text": [
            "Error: data.txt does not exist\n"
          ]
        }
      ]
    },
    {
      "cell_type": "markdown",
      "source": [
        "**Q.14 Write a program that uses the logging module to log both informational and error messages?**"
      ],
      "metadata": {
        "id": "3KbDwETp5KYO"
      }
    },
    {
      "cell_type": "code",
      "source": [
        "import logging\n",
        "logging.basicConfig(level=logging.INFO)\n",
        "\n",
        "logging.info(\"This is an info message\")\n",
        "logging.warning(\"This is a warning!\")\n",
        "logging.error(\"This is an error!\")"
      ],
      "metadata": {
        "id": "R-O5h3lm5Qyr"
      },
      "execution_count": null,
      "outputs": []
    },
    {
      "cell_type": "code",
      "source": [
        "try :\n",
        "  f = open('example.txt','w')\n",
        "  f.wirte(\"hello this is muskan here\")\n",
        "except Exception as e:\n",
        "  print(\"i like the method of error handling in python\")\n",
        "else:\n",
        "  f.close()\n",
        "  print(\"This line will execute if no exception is raised\")\n",
        "finally:\n",
        "  print(\"It will be printed in every situation\")\n"
      ],
      "metadata": {
        "id": "1XA7SbV358EF",
        "colab": {
          "base_uri": "https://localhost:8080/"
        },
        "outputId": "bafbab41-50a1-4aaa-8415-77416bc8c2e5"
      },
      "execution_count": null,
      "outputs": [
        {
          "output_type": "stream",
          "name": "stdout",
          "text": [
            "i like the method of error handling in python\n",
            "It will be printed in every situation\n"
          ]
        }
      ]
    },
    {
      "cell_type": "markdown",
      "source": [
        "**Q.15 Write a Python program that prints the content of a file and handles the case when the file is empty**"
      ],
      "metadata": {
        "id": "uAJjF_v77V0M"
      }
    },
    {
      "cell_type": "code",
      "source": [
        "with open(\"example.txt\", 'r') as file:\n",
        "    content = file.read()\n",
        "    print(content if content else \"The file is empty.\")"
      ],
      "metadata": {
        "colab": {
          "base_uri": "https://localhost:8080/"
        },
        "id": "8yWX0_y97djM",
        "outputId": "14c65c65-589b-4ca8-b26c-ca78ca516fed"
      },
      "execution_count": null,
      "outputs": [
        {
          "output_type": "stream",
          "name": "stdout",
          "text": [
            "The file is empty.\n"
          ]
        }
      ]
    },
    {
      "cell_type": "markdown",
      "source": [
        "**Q.16 Demonstrate how to use memory profiling to check the memory usage of a small program ?**"
      ],
      "metadata": {
        "id": "CnPjXW4C8qP2"
      }
    },
    {
      "cell_type": "code",
      "source": [
        "import time\n",
        "start = time.perf_counter()\n",
        "\n",
        "def process():\n",
        "  print(\"Do something here\")\n",
        "  print(\"sleep 1 second\")\n",
        "  time.sleep(1)\n",
        "  print(\"Done with sleeping\")\n",
        "process()\n",
        "end = time.perf_counter()\n",
        "print(f\"The time of process is {round(end-start,2)}seconds\")"
      ],
      "metadata": {
        "id": "9IO5DdW380qL",
        "colab": {
          "base_uri": "https://localhost:8080/"
        },
        "outputId": "f2ca1e25-7d0e-4a28-8f38-437aebeac241"
      },
      "execution_count": 32,
      "outputs": [
        {
          "output_type": "stream",
          "name": "stdout",
          "text": [
            "Do something here\n",
            "sleep 1 second\n",
            "Done with sleeping\n",
            "The time of process is 1.0seconds\n"
          ]
        }
      ]
    },
    {
      "cell_type": "markdown",
      "source": [
        "**Q.17 Write a Python program to create and write a list of numbers to a file, one number per line**"
      ],
      "metadata": {
        "id": "SdCjMXyF-ZkS"
      }
    },
    {
      "cell_type": "code",
      "source": [
        "numbers = [1, 2, 3, 4, 5]\n",
        "\n",
        "with open('numbers.txt', 'w') as f:\n",
        "    for num in numbers:\n",
        "        f.write(f\"{num}\\n\")\n",
        "\n",
        "print(\"Numbers written to numbers.txt\")\n",
        "# if you run this and check numbers are prited there"
      ],
      "metadata": {
        "colab": {
          "base_uri": "https://localhost:8080/"
        },
        "id": "poddR7l2-omp",
        "outputId": "7a0f3e0f-e21a-4f2b-8baa-e55f08a0ce61"
      },
      "execution_count": 33,
      "outputs": [
        {
          "output_type": "stream",
          "name": "stdout",
          "text": [
            "Numbers written to numbers.txt\n"
          ]
        }
      ]
    },
    {
      "cell_type": "markdown",
      "source": [
        "**Q.18  How would you implement a basic logging setup that logs to a file with rotation after 1MB**"
      ],
      "metadata": {
        "id": "Gy0LwlYC_X8q"
      }
    },
    {
      "cell_type": "code",
      "source": [
        "import logging\n",
        "from logging.handlers import RotatingFileHandler\n",
        "\n",
        "# Configure logging with rotation\n",
        "logging.basicConfig(\n",
        "    handlers=[\n",
        "        RotatingFileHandler(\n",
        "            filename='app.log',\n",
        "            maxBytes=1024*1024,\n",
        "            backupCount=3,\n",
        "            encoding='utf-8'\n",
        "        )\n",
        "    ],\n",
        "    level=logging.INFO,\n",
        "    format='%(asctime)s - %(levelname)s - %(message)s',\n",
        "    datefmt='%Y-%m-%d %H:%M:%S'\n",
        ")\n",
        "\n",
        "# Example usage\n",
        "logging.info(\"This is an info message\")\n",
        "logging.warning(\"This is a warning message\")"
      ],
      "metadata": {
        "colab": {
          "base_uri": "https://localhost:8080/"
        },
        "id": "a-LoYRWn_KoX",
        "outputId": "e9709859-ed2f-42f3-ee1b-11e9b40b0d6f"
      },
      "execution_count": 34,
      "outputs": [
        {
          "output_type": "stream",
          "name": "stderr",
          "text": [
            "WARNING:root:This is a warning message\n"
          ]
        }
      ]
    },
    {
      "cell_type": "markdown",
      "source": [
        "**Q.19 Write a program that handles both IndexError and KeyError using a try-except block**"
      ],
      "metadata": {
        "id": "JQjjibJxAW4S"
      }
    },
    {
      "cell_type": "code",
      "source": [
        "dict1 = {\n",
        "    'name':'muskan',\n",
        "    'age':20,\n",
        "    'city':'indore'\n",
        "}\n",
        "\n",
        "print(dict1['country'])"
      ],
      "metadata": {
        "colab": {
          "base_uri": "https://localhost:8080/",
          "height": 176
        },
        "id": "2Ne41sCrAgK9",
        "outputId": "6c01f95c-c8bd-4ffb-dcbb-57c5a2924d6f"
      },
      "execution_count": 35,
      "outputs": [
        {
          "output_type": "error",
          "ename": "KeyError",
          "evalue": "'country'",
          "traceback": [
            "\u001b[0;31m---------------------------------------------------------------------------\u001b[0m",
            "\u001b[0;31mKeyError\u001b[0m                                  Traceback (most recent call last)",
            "\u001b[0;32m/tmp/ipython-input-35-824462245.py\u001b[0m in \u001b[0;36m<cell line: 0>\u001b[0;34m()\u001b[0m\n\u001b[1;32m      5\u001b[0m }\n\u001b[1;32m      6\u001b[0m \u001b[0;34m\u001b[0m\u001b[0m\n\u001b[0;32m----> 7\u001b[0;31m \u001b[0mprint\u001b[0m\u001b[0;34m(\u001b[0m\u001b[0mdict1\u001b[0m\u001b[0;34m[\u001b[0m\u001b[0;34m'country'\u001b[0m\u001b[0;34m]\u001b[0m\u001b[0;34m)\u001b[0m\u001b[0;34m\u001b[0m\u001b[0;34m\u001b[0m\u001b[0m\n\u001b[0m",
            "\u001b[0;31mKeyError\u001b[0m: 'country'"
          ]
        }
      ]
    },
    {
      "cell_type": "code",
      "source": [
        "try:\n",
        "  print(dict1['country'])\n",
        "except KeyError:\n",
        "  print(\"Error: Key not found in dictionary\")\n",
        "except IndexError:\n",
        "  print(\"Error: Index out of range\")"
      ],
      "metadata": {
        "colab": {
          "base_uri": "https://localhost:8080/"
        },
        "id": "vMmaQlgHA0zR",
        "outputId": "dbe1f816-af74-4c03-ba3a-939803afb5ee"
      },
      "execution_count": 36,
      "outputs": [
        {
          "output_type": "stream",
          "name": "stdout",
          "text": [
            "Error: Key not found in dictionary\n"
          ]
        }
      ]
    },
    {
      "cell_type": "markdown",
      "source": [
        "**Q.20 How would you open a file and read its contents using a context manager in Python**"
      ],
      "metadata": {
        "id": "dRjJBgi9A5so"
      }
    },
    {
      "cell_type": "code",
      "source": [
        "with open('file.txt','r') as f:\n",
        "  print(f.read())"
      ],
      "metadata": {
        "colab": {
          "base_uri": "https://localhost:8080/"
        },
        "id": "VKuSsCN6BVqw",
        "outputId": "ff82aa9f-4d6b-417e-fbdf-c27f1a7734a0"
      },
      "execution_count": 37,
      "outputs": [
        {
          "output_type": "stream",
          "name": "stdout",
          "text": [
            "hello muskan\n",
            "\n",
            "This is our new file\n"
          ]
        }
      ]
    },
    {
      "cell_type": "markdown",
      "source": [
        "**Q.21 Write a Python program that reads a file and prints the number of occurrences of a specific word**"
      ],
      "metadata": {
        "id": "_Qfc-e4RBcgV"
      }
    },
    {
      "cell_type": "code",
      "source": [
        "def count_word_occurrences(filename, target_word):\n",
        "  with open(filename,'r') as file:\n",
        "    content = file.read()\n",
        "    words = content.split()\n",
        "    count = 0\n",
        "    for word in words:\n",
        "      if word == target_word:\n",
        "        count += 1\n",
        "        print(f\"The word '{target_word}' appears {count} times in the file.\")\n",
        "\n",
        "\n",
        "# Example usage\n",
        "count_word_occurrences('file.txt', 'hello')"
      ],
      "metadata": {
        "colab": {
          "base_uri": "https://localhost:8080/"
        },
        "id": "2PuICcmkBjIA",
        "outputId": "9d6adab4-eacf-4370-cab6-c300820feb00"
      },
      "execution_count": 41,
      "outputs": [
        {
          "output_type": "stream",
          "name": "stdout",
          "text": [
            "The word 'hello' appears 1 times in the file.\n"
          ]
        }
      ]
    },
    {
      "cell_type": "markdown",
      "source": [
        "**Q.22 How can you check if a file is empty before attempting to read its contents?**"
      ],
      "metadata": {
        "id": "0gmJqW24C44_"
      }
    },
    {
      "cell_type": "code",
      "source": [
        "import os\n",
        "\n",
        "def is_file_empty(file_path):\n",
        "    try:\n",
        "        return os.path.getsize(file_path) == 0\n",
        "    except FileNotFoundError:\n",
        "        print(f\"Error: The file '{file_path}' was not found.\")\n",
        "        return False # Or raise the exception again, depending on desired behavior\n",
        "\n",
        "# Usage:\n",
        "file_name = 'file2.txt'\n",
        "if is_file_empty(file_name):\n",
        "    print(\"File is empty\")\n",
        "else:\n",
        "    try:\n",
        "        with open(file_name) as f:\n",
        "            print(f.read())\n",
        "    except FileNotFoundError:\n",
        "        pass"
      ],
      "metadata": {
        "colab": {
          "base_uri": "https://localhost:8080/"
        },
        "id": "O4wK0aw9DIQl",
        "outputId": "048af50b-e58e-435d-975d-f4f48fe2c416"
      },
      "execution_count": 45,
      "outputs": [
        {
          "output_type": "stream",
          "name": "stdout",
          "text": [
            "File is empty\n"
          ]
        }
      ]
    },
    {
      "cell_type": "markdown",
      "source": [
        "**Q.23  Write a Python program that writes to a log file when an error occurs during file handling.?**"
      ],
      "metadata": {
        "id": "USZnqZSuEjt2"
      }
    },
    {
      "cell_type": "code",
      "source": [
        "import logging\n",
        "\n",
        "# Configure logging to write errors to a file\n",
        "logging.basicConfig(\n",
        "    filename='file_errors.log',\n",
        "    level=logging.ERROR,\n",
        "    format='%(asctime)s - %(levelname)s - %(message)s',\n",
        "    datefmt='%Y-%m-%d %H:%M:%S'\n",
        ")\n",
        "\n",
        "def read_file_safely(filename):\n",
        "    try:\n",
        "        with open(filename, 'r') as file:\n",
        "            content = file.read()\n",
        "            print(\"File content:\")\n",
        "            print(content)\n",
        "            return content\n",
        "    except FileNotFoundError:\n",
        "        logging.error(f\"File not found: {filename}\")\n",
        "        print(f\"Error: File '{filename}' doesn't exist\")\n",
        "    except PermissionError:\n",
        "        logging.error(f\"Permission denied for file: {filename}\")\n",
        "        print(f\"Error: No permission to read '{filename}'\")\n",
        "    except Exception as e:\n",
        "        logging.error(f\"Unexpected error with file {filename}: {str(e)}\", exc_info=True)\n",
        "        print(f\"An unexpected error occurred: {e}\")\n",
        "\n",
        "# Example usage\n",
        "read_file_safely(\"nonexistent_file.txt\")  # Will log error\n",
        "read_file_safely(\"/protected/system_file\")  # Will log permission error"
      ],
      "metadata": {
        "colab": {
          "base_uri": "https://localhost:8080/"
        },
        "id": "M7eS4LYAEnkW",
        "outputId": "d0686d08-70d7-43f7-9af4-8b21a953d440"
      },
      "execution_count": 46,
      "outputs": [
        {
          "output_type": "stream",
          "name": "stderr",
          "text": [
            "ERROR:root:File not found: nonexistent_file.txt\n",
            "ERROR:root:File not found: /protected/system_file\n"
          ]
        },
        {
          "output_type": "stream",
          "name": "stdout",
          "text": [
            "Error: File 'nonexistent_file.txt' doesn't exist\n",
            "Error: File '/protected/system_file' doesn't exist\n"
          ]
        }
      ]
    }
  ]
}